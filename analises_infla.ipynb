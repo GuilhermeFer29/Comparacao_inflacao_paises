{
 "cells": [
  {
   "cell_type": "markdown",
   "metadata": {},
   "source": [
    "##### Analise de inflação de países \n",
    "##### Aluno: Guilherme Fernandes\n",
    "##### Curso: BootCampLLM - Soulcode\n",
    "##### Tema: Analise Estatisco de inflação de países e Comparação entre eles"
   ]
  },
  {
   "cell_type": "code",
   "execution_count": 30,
   "metadata": {},
   "outputs": [],
   "source": [
    "# Importando as bibliotecas necessárias\n",
    "import pandas as pd\n",
    "import numpy as np\n",
    "import scipy.stats as sp\n",
    "from itertools import combinations\n",
    "import matplotlib.pyplot as plt"
   ]
  },
  {
   "cell_type": "code",
   "execution_count": null,
   "metadata": {},
   "outputs": [
    {
     "data": {
      "text/html": [
       "<div>\n",
       "<style scoped>\n",
       "    .dataframe tbody tr th:only-of-type {\n",
       "        vertical-align: middle;\n",
       "    }\n",
       "\n",
       "    .dataframe tbody tr th {\n",
       "        vertical-align: top;\n",
       "    }\n",
       "\n",
       "    .dataframe thead th {\n",
       "        text-align: right;\n",
       "    }\n",
       "</style>\n",
       "<table border=\"1\" class=\"dataframe\">\n",
       "  <thead>\n",
       "    <tr style=\"text-align: right;\">\n",
       "      <th></th>\n",
       "      <th>Mes/Ano</th>\n",
       "      <th>Alemanha</th>\n",
       "      <th>Estonia</th>\n",
       "      <th>Finlandia</th>\n",
       "      <th>Grecia</th>\n",
       "      <th>Suecia</th>\n",
       "    </tr>\n",
       "  </thead>\n",
       "  <tbody>\n",
       "    <tr>\n",
       "      <th>0</th>\n",
       "      <td>Jan/2020</td>\n",
       "      <td>1.6</td>\n",
       "      <td>1.6</td>\n",
       "      <td>1.2</td>\n",
       "      <td>1.1</td>\n",
       "      <td>1.5</td>\n",
       "    </tr>\n",
       "    <tr>\n",
       "      <th>1</th>\n",
       "      <td>Fev/2020</td>\n",
       "      <td>1.7</td>\n",
       "      <td>2.0</td>\n",
       "      <td>1.1</td>\n",
       "      <td>0.4</td>\n",
       "      <td>1.3</td>\n",
       "    </tr>\n",
       "    <tr>\n",
       "      <th>2</th>\n",
       "      <td>Mar/2020</td>\n",
       "      <td>1.3</td>\n",
       "      <td>1.0</td>\n",
       "      <td>0.9</td>\n",
       "      <td>0.2</td>\n",
       "      <td>0.8</td>\n",
       "    </tr>\n",
       "    <tr>\n",
       "      <th>3</th>\n",
       "      <td>Abr/2020</td>\n",
       "      <td>0.8</td>\n",
       "      <td>-0.9</td>\n",
       "      <td>-0.3</td>\n",
       "      <td>-0.9</td>\n",
       "      <td>-0.2</td>\n",
       "    </tr>\n",
       "    <tr>\n",
       "      <th>4</th>\n",
       "      <td>Mai/2020</td>\n",
       "      <td>0.5</td>\n",
       "      <td>-1.8</td>\n",
       "      <td>-0.1</td>\n",
       "      <td>-0.7</td>\n",
       "      <td>0.1</td>\n",
       "    </tr>\n",
       "  </tbody>\n",
       "</table>\n",
       "</div>"
      ],
      "text/plain": [
       "    Mes/Ano  Alemanha  Estonia  Finlandia  Grecia  Suecia\n",
       "0  Jan/2020       1.6      1.6        1.2     1.1     1.5\n",
       "1  Fev/2020       1.7      2.0        1.1     0.4     1.3\n",
       "2  Mar/2020       1.3      1.0        0.9     0.2     0.8\n",
       "3  Abr/2020       0.8     -0.9       -0.3    -0.9    -0.2\n",
       "4  Mai/2020       0.5     -1.8       -0.1    -0.7     0.1"
      ]
     },
     "execution_count": 3,
     "metadata": {},
     "output_type": "execute_result"
    }
   ],
   "source": [
    "# Importando o dataset\n",
    "df = pd.read_csv('paises_europa/tabela_paises.csv')\n",
    "df.head() # Mostrando as primeiras linhas do dataset"
   ]
  },
  {
   "cell_type": "code",
   "execution_count": null,
   "metadata": {},
   "outputs": [
    {
     "name": "stdout",
     "output_type": "stream",
     "text": [
      "A média de inflação do país Alemanha é 4.58125\n",
      "A média de inflação do país Estonia é 8.170833333333333\n",
      "A média de inflação do país Finlandia é 3.50625\n",
      "A média de inflação do país Grecia é 3.2062500000000003\n",
      "A média de inflação do país Suecia é 4.33125\n"
     ]
    }
   ],
   "source": [
    "# lista de paises\n",
    "paises =['Alemanha', 'Estonia', 'Finlandia', 'Grecia', 'Suecia']\n",
    "\n",
    "# criando um dicionário para armazenar as médias de inflação\n",
    "medias_inflacao = {}\n",
    "\n",
    "# calculando a média de inflação para cada país\n",
    "for pais in paises:\n",
    "    if pais in df.columns:\n",
    "        medias_inflacao[pais]= np.mean(df[pais])\n",
    "        print(f'A média de inflação do país {pais} é {medias_inflacao[pais]}')\n",
    "    else:\n",
    "        print(f'O país {pais} não está no dataframe')"
   ]
  },
  {
   "cell_type": "code",
   "execution_count": null,
   "metadata": {},
   "outputs": [
    {
     "name": "stdout",
     "output_type": "stream",
     "text": [
      "País 1: Alemanha | País 2: Estonia\n",
      "Média dos País: 4.58 vs 8.17 \n",
      "Valor de P: 0.0088 ---> Diferença significativa entre as médias\n",
      "\n",
      "País 1: Alemanha | País 2: Finlandia\n",
      "Média dos País: 4.58 vs 3.51 \n",
      "Valor de P: 0.1130 ---> Não há diferença significativa entre as médias\n",
      "\n",
      "País 1: Alemanha | País 2: Grecia\n",
      "Média dos País: 4.58 vs 3.21 \n",
      "Valor de P: 0.0986 ---> Não há diferença significativa entre as médias\n",
      "\n",
      "País 1: Alemanha | País 2: Suecia\n",
      "Média dos País: 4.58 vs 4.33 \n",
      "Valor de P: 0.7252 ---> Não há diferença significativa entre as médias\n",
      "\n",
      "País 1: Estonia | País 2: Finlandia\n",
      "Média dos País: 8.17 vs 3.51 \n",
      "Valor de P: 0.0007 ---> Diferença significativa entre as médias\n",
      "\n",
      "País 1: Estonia | País 2: Grecia\n",
      "Média dos País: 8.17 vs 3.21 \n",
      "Valor de P: 0.0006 ---> Diferença significativa entre as médias\n",
      "\n",
      "País 1: Estonia | País 2: Suecia\n",
      "Média dos País: 8.17 vs 4.33 \n",
      "Valor de P: 0.0049 ---> Diferença significativa entre as médias\n",
      "\n",
      "País 1: Finlandia | País 2: Grecia\n",
      "Média dos País: 3.51 vs 3.21 \n",
      "Valor de P: 0.6989 ---> Não há diferença significativa entre as médias\n",
      "\n",
      "País 1: Finlandia | País 2: Suecia\n",
      "Média dos País: 3.51 vs 4.33 \n",
      "Valor de P: 0.2069 ---> Não há diferença significativa entre as médias\n",
      "\n",
      "País 1: Grecia | País 2: Suecia\n",
      "Média dos País: 3.21 vs 4.33 \n",
      "Valor de P: 0.1660 ---> Não há diferença significativa entre as médias\n",
      "\n"
     ]
    },
    {
     "name": "stderr",
     "output_type": "stream",
     "text": [
      "/tmp/ipykernel_54464/2119935699.py:9: DeprecationWarning: Please import `ttest_ind` from the `scipy.stats` namespace; the `scipy.stats.stats` namespace is deprecated and will be removed in SciPy 2.0.0.\n",
      "  t_stat, p_valor = sp.stats.ttest_ind(dados_paises_eu1, dados_paises_eu2, equal_var=False)\n"
     ]
    }
   ],
   "source": [
    "extrato = df.columns[1:].tolist()\n",
    "\n",
    "ger_pares = list(combinations(extrato, 2))\n",
    "\n",
    "\n",
    "niv_confianca = float(input(\"Digite o nível de confiança desejado (ex: 0.95): \"))\n",
    "\n",
    "for paises_eu1 , paises_eu2 in ger_pares :\n",
    "    dados_paises_eu1 = df[paises_eu1]\n",
    "    dados_paises_eu2 = df[paises_eu2]\n",
    "    \n",
    "    t_stat, p_valor = sp.stats.ttest_ind(dados_paises_eu1, dados_paises_eu2, equal_var=False)\n",
    "    \n",
    "    medias_eu1 = dados_paises_eu1.mean()\n",
    "    medias_eu2 = dados_paises_eu2.mean()\n",
    "    \n",
    "    \n",
    "    \n",
    "    if p_valor < niv_confianca:\n",
    "        diferenca_eu = \"Diferença significativa entre as médias\"\n",
    "    else:\n",
    "        diferenca_eu = \"Não há diferença significativa entre as médias\"\n",
    "        \n",
    "    print(f\"País 1: {paises_eu1} | País 2: {paises_eu2}\")\n",
    "    print(f\"Média dos País: {medias_eu1:.2f} vs {medias_eu2:.2f} \")\n",
    "    print(f\"Valor de P: {p_valor:.4f} ---> {diferenca_eu}\\n\")"
   ]
  },
  {
   "cell_type": "code",
   "execution_count": null,
   "metadata": {},
   "outputs": [],
   "source": []
  },
  {
   "cell_type": "code",
   "execution_count": null,
   "metadata": {},
   "outputs": [],
   "source": []
  }
 ],
 "metadata": {
  "kernelspec": {
   "display_name": "venv",
   "language": "python",
   "name": "python3"
  },
  "language_info": {
   "codemirror_mode": {
    "name": "ipython",
    "version": 3
   },
   "file_extension": ".py",
   "mimetype": "text/x-python",
   "name": "python",
   "nbconvert_exporter": "python",
   "pygments_lexer": "ipython3",
   "version": "3.12.3"
  }
 },
 "nbformat": 4,
 "nbformat_minor": 2
}
